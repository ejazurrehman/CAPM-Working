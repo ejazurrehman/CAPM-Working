{
 "cells": [
  {
   "cell_type": "markdown",
   "id": "95eea658",
   "metadata": {},
   "source": [
    "## CAPM Working\n",
    "\n",
    "Prepared By: Ejaz-ur-Rehman\\\n",
    "Date: 13-08-2025\\\n",
    "Contact: ijazfinance@gmail.com\n"
   ]
  },
  {
   "cell_type": "code",
   "execution_count": 19,
   "id": "304c13ec",
   "metadata": {},
   "outputs": [
    {
     "name": "stdout",
     "output_type": "stream",
     "text": [
      "Annualized Stock Return: -14.70%\n",
      "Annualized Market Return: 1.44%\n",
      "Annualized Stock Volatility: 23.08%\n",
      "Beta: 0.87\n"
     ]
    }
   ],
   "source": [
    "import pandas as pd\n",
    "import numpy as np\n",
    "\n",
    "# Example: reading from your file\n",
    "df = pd.read_csv(r\"E:\\Data Science\\CAPM Working\\data.csv\")\n",
    "\n",
    "# Step 1: Parse DATE correctly\n",
    "df['DATE'] = pd.to_datetime(df['DATE'], format='%d-%b-%y')\n",
    "\n",
    "# Step 2: Convert percentage strings to decimal numbers\n",
    "for col in ['Return_Stock', 'Return_market', 'Rist_free_Rate']:\n",
    "    df[col] = df[col].replace('%', '', regex=True).astype(float) / 100\n",
    "\n",
    "# Step 3: Drop rows with missing values\n",
    "df.dropna(subset=['Return_Stock', 'Return_market'], inplace=True)\n",
    "\n",
    "# Step 4: Annualized return & volatility\n",
    "trading_days = 246\n",
    "annualized_stock_return = (1 + df['Return_Stock'].mean())**trading_days - 1\n",
    "annualized_market_return = (1 + df['Return_market'].mean())**trading_days - 1\n",
    "annualized_stock_volatility = df['Return_Stock'].std() * np.sqrt(trading_days)\n",
    "\n",
    "# Step 5: Beta calculation\n",
    "cov_matrix = np.cov(df['Return_Stock'], df['Return_market'])\n",
    "beta = cov_matrix[0, 1] / cov_matrix[1, 1]\n",
    "\n",
    "# Display results\n",
    "print(f\"Annualized Stock Return: {annualized_stock_return*100:.2f}%\")\n",
    "print(f\"Annualized Market Return: {annualized_market_return*100:.2f}%\")\n",
    "print(f\"Annualized Stock Volatility: {annualized_stock_volatility*100:.2f}%\")\n",
    "print(f\"Beta: {beta:.2f}\")\n"
   ]
  },
  {
   "cell_type": "code",
   "execution_count": 20,
   "id": "1b2b8c90",
   "metadata": {},
   "outputs": [
    {
     "name": "stdout",
     "output_type": "stream",
     "text": [
      "Beta: 0.87\n"
     ]
    }
   ],
   "source": [
    "import pandas as pd\n",
    "import numpy as np\n",
    "\n",
    "# Read CSV\n",
    "df = pd.read_csv(r\"E:\\Data Science\\CAPM Working\\data.csv\")\n",
    "\n",
    "# Convert date\n",
    "df['DATE'] = pd.to_datetime(df['DATE'], format='%d-%b-%y')\n",
    "\n",
    "# Convert percentage strings to decimals\n",
    "for col in ['Return_Stock', 'Return_market', 'Rist_free_Rate']:\n",
    "    df[col] = (\n",
    "        df[col]\n",
    "        .replace('%', '', regex=True)   # remove %\n",
    "        .astype(float) / 100            # convert to decimal\n",
    "    )\n",
    "\n",
    "# Drop NaN rows only where stock or market return is missing\n",
    "df = df.dropna(subset=['Return_Stock', 'Return_market'])\n",
    "\n",
    "# Calculate beta using covariance / variance\n",
    "cov_matrix = np.cov(df['Return_Stock'], df['Return_market'])\n",
    "beta = cov_matrix[0, 1] / cov_matrix[1, 1]\n",
    "\n",
    "print(f\"Beta: {beta:.2f}\")\n"
   ]
  },
  {
   "cell_type": "code",
   "execution_count": 21,
   "id": "a4fd7620",
   "metadata": {},
   "outputs": [
    {
     "name": "stdout",
     "output_type": "stream",
     "text": [
      "Beta (Excel style): 0.87\n"
     ]
    }
   ],
   "source": [
    "import pandas as pd\n",
    "\n",
    "# Read and clean\n",
    "df = pd.read_csv(r\"E:\\Data Science\\CAPM Working\\data.csv\")\n",
    "df['DATE'] = pd.to_datetime(df['DATE'], format='%d-%b-%y')\n",
    "\n",
    "# Convert percentage strings to decimals\n",
    "for col in ['Return_Stock', 'Return_market', 'Rist_free_Rate']:\n",
    "    df[col] = (\n",
    "        df[col].replace('%', '', regex=True).astype(float) / 100\n",
    "    )\n",
    "\n",
    "# Keep only rows where both stock and market returns exist\n",
    "df = df[['Return_Stock', 'Return_market']].dropna()\n",
    "\n",
    "# Excel SLOPE-style beta\n",
    "beta_excel = df['Return_Stock'].cov(df['Return_market']) / df['Return_market'].var()\n",
    "\n",
    "print(f\"Beta (Excel style): {beta_excel:.2f}\")\n"
   ]
  },
  {
   "cell_type": "code",
   "execution_count": 37,
   "id": "930123b9",
   "metadata": {},
   "outputs": [
    {
     "name": "stdout",
     "output_type": "stream",
     "text": [
      "  Return_Stock Return_market Risk_free_Rate\n",
      "1        0.47%         0.57%         10.10%\n",
      "Return_Stock      object\n",
      "Return_market     object\n",
      "Risk_free_Rate    object\n",
      "dtype: object\n"
     ]
    }
   ],
   "source": [
    "print(df[['Return_Stock', 'Return_market', 'Risk_free_Rate']].head())\n",
    "print(df[['Return_Stock', 'Return_market', 'Risk_free_Rate']].dtypes)\n"
   ]
  },
  {
   "cell_type": "code",
   "execution_count": 38,
   "id": "0116266b",
   "metadata": {},
   "outputs": [
    {
     "name": "stdout",
     "output_type": "stream",
     "text": [
      "Beta: nan\n",
      "Expected Return (CAPM): nan\n"
     ]
    },
    {
     "name": "stderr",
     "output_type": "stream",
     "text": [
      "C:\\Users\\DELL\\AppData\\Local\\Temp\\ipykernel_11232\\705446291.py:13: RuntimeWarning: Degrees of freedom <= 0 for slice\n",
      "  covariance = np.cov(df['Return_Stock'], df['Return_market'])[0,1]\n",
      "c:\\Users\\DELL\\miniconda3\\Lib\\site-packages\\numpy\\lib\\_function_base_impl.py:2914: RuntimeWarning: divide by zero encountered in divide\n",
      "  c *= np.true_divide(1, fact)\n",
      "c:\\Users\\DELL\\miniconda3\\Lib\\site-packages\\numpy\\lib\\_function_base_impl.py:2914: RuntimeWarning: invalid value encountered in multiply\n",
      "  c *= np.true_divide(1, fact)\n"
     ]
    }
   ],
   "source": [
    "# Remove % signs and convert to decimal floats\n",
    "for col in ['Return_Stock', 'Return_market', 'Risk_free_Rate']:\n",
    "    df[col] = df[col].str.rstrip('%')           # Remove trailing '%'\n",
    "    df[col] = pd.to_numeric(df[col], errors='coerce')  # Convert to numeric (float)\n",
    "    df[col] = df[col] / 100                       # Convert percentage to decimal\n",
    "\n",
    "# Drop rows with any NaN values after conversion\n",
    "df = df.dropna(subset=['Return_Stock', 'Return_market', 'Risk_free_Rate'])\n",
    "\n",
    "# Now you can calculate Beta and Expected Return\n",
    "import numpy as np\n",
    "\n",
    "covariance = np.cov(df['Return_Stock'], df['Return_market'])[0,1]\n",
    "variance_market = np.var(df['Return_market'])\n",
    "beta = covariance / variance_market\n",
    "print(f\"Beta: {beta}\")\n",
    "\n",
    "risk_free_rate = df['Risk_free_Rate'].iloc[-1]  # or df['Risk_free_Rate'].mean()\n",
    "market_return = df['Return_market'].mean()\n",
    "\n",
    "expected_return = risk_free_rate + beta * (market_return - risk_free_rate)\n",
    "print(f\"Expected Return (CAPM): {expected_return}\")\n"
   ]
  },
  {
   "cell_type": "code",
   "execution_count": 39,
   "id": "a0edafa6",
   "metadata": {},
   "outputs": [
    {
     "name": "stdout",
     "output_type": "stream",
     "text": [
      "(1, 4)\n",
      "        DATE  Return_Stock  Return_market  Risk_free_Rate\n",
      "1 2021-01-04        0.0047         0.0057           0.101\n"
     ]
    }
   ],
   "source": [
    "print(df.shape)  # shows number of rows and columns\n",
    "print(df.head())\n"
   ]
  }
 ],
 "metadata": {
  "kernelspec": {
   "display_name": "base",
   "language": "python",
   "name": "python3"
  },
  "language_info": {
   "codemirror_mode": {
    "name": "ipython",
    "version": 3
   },
   "file_extension": ".py",
   "mimetype": "text/x-python",
   "name": "python",
   "nbconvert_exporter": "python",
   "pygments_lexer": "ipython3",
   "version": "3.13.5"
  }
 },
 "nbformat": 4,
 "nbformat_minor": 5
}
