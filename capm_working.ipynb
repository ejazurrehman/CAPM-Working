{
 "cells": [
  {
   "cell_type": "markdown",
   "id": "95eea658",
   "metadata": {},
   "source": [
    "## CAPM Working\n",
    "\n",
    "Prepared By: Ejaz-ur-Rehman\\\n",
    "Date: 13-08-2025\\\n",
    "Contact: ijazfinance@gmail.com\n"
   ]
  },
  {
   "cell_type": "markdown",
   "id": "67b78b9a",
   "metadata": {},
   "source": [
    "### File Import and Data Cleaning"
   ]
  },
  {
   "cell_type": "code",
   "execution_count": null,
   "id": "f6a3ad51",
   "metadata": {},
   "outputs": [
    {
     "name": "stdout",
     "output_type": "stream",
     "text": [
      "Column names from CSV:\n",
      "['DATE,Return_Stock,Return_market']\n"
     ]
    }
   ],
   "source": [
    "import pandas as pd\n",
    "\n",
    "df = pd.read_csv(r\"E:\\Data Science\\CAPM Working\\data.csv\")\n",
    "\n",
    "print(\"Column names from CSV:\")\n",
    "print(df.columns.tolist())  # show exact headers\n"
   ]
  },
  {
   "cell_type": "code",
   "execution_count": null,
   "id": "3828d9ea",
   "metadata": {},
   "outputs": [
    {
     "name": "stdout",
     "output_type": "stream",
     "text": [
      "Number of rows after cleaning: 247\n",
      "  DATE,Return_Stock,Return_market\n",
      "0                     1-Jan-21,,,\n",
      "1            4-Jan-21,0.47%,0.57%\n",
      "2          5-Jan-21,0.90%,-0.08%,\n",
      "3           6-Jan-21,0.95%,1.13%,\n",
      "4           7-Jan-21,1.87%,0.42%,\n"
     ]
    }
   ],
   "source": [
    "import pandas as pd\n",
    "\n",
    "# Read CSV with correct delimiter\n",
    "df = pd.read_csv(r\"E:\\Data Science\\CAPM Working\\data.csv\", sep=\",\")\n",
    "\n",
    "# Remove rows with missing values\n",
    "df_clean = df.dropna()\n",
    "\n",
    "# Check the number of rows after cleaning\n",
    "row_count = len(df_clean)\n",
    "\n",
    "print(\"Number of rows after cleaning:\", row_count)\n",
    "print(df_clean.head())\n"
   ]
  },
  {
   "cell_type": "code",
   "execution_count": null,
   "id": "5ff7da3a",
   "metadata": {},
   "outputs": [
    {
     "name": "stdout",
     "output_type": "stream",
     "text": [
      "  DATE,Return_Stock,Return_market\n",
      "0                     1-Jan-21,,,\n",
      "1            4-Jan-21,0.47%,0.57%\n",
      "2          5-Jan-21,0.90%,-0.08%,\n",
      "3           6-Jan-21,0.95%,1.13%,\n",
      "4           7-Jan-21,1.87%,0.42%,\n",
      "Index(['DATE,Return_Stock,Return_market'], dtype='object')\n"
     ]
    }
   ],
   "source": [
    "import pandas as pd\n",
    "\n",
    "# Force Pandas to split by comma\n",
    "df = pd.read_csv(r\"E:\\Data Science\\CAPM Working\\data.csv\", sep=\",\")\n",
    "\n",
    "print(df.head())\n",
    "print(df.columns)\n"
   ]
  },
  {
   "cell_type": "code",
   "execution_count": null,
   "id": "f5eb7c10",
   "metadata": {},
   "outputs": [
    {
     "name": "stdout",
     "output_type": "stream",
     "text": [
      "Detected delimiter: ,\n"
     ]
    }
   ],
   "source": [
    "import csv\n",
    "\n",
    "with open(r\"E:\\Data Science\\CAPM Working\\data.csv\", 'r') as f:\n",
    "    dialect = csv.Sniffer().sniff(f.read(1024))\n",
    "    print(\"Detected delimiter:\", dialect.delimiter)\n"
   ]
  },
  {
   "cell_type": "code",
   "execution_count": null,
   "id": "580d5f30",
   "metadata": {},
   "outputs": [
    {
     "data": {
      "text/plain": [
       "(np.float64(1.0475), np.float64(0.51))"
      ]
     },
     "execution_count": 15,
     "metadata": {},
     "output_type": "execute_result"
    }
   ],
   "source": [
    "import pandas as pd\n",
    "\n",
    "# Create the dataframe from the given cleaned data\n",
    "data = {\n",
    "    \"DATE\": [\"1-Jan-21\", \"4-Jan-21\", \"5-Jan-21\", \"6-Jan-21\", \"7-Jan-21\"],\n",
    "    \"Return_Stock\": [None, \"0.47%\", \"0.90%\", \"0.95%\", \"1.87%\"],\n",
    "    \"Return_market\": [None, \"0.57%\", \"-0.08%\", \"1.13%\", \"0.42%\"]\n",
    "}\n",
    "df = pd.DataFrame(data)\n",
    "\n",
    "# Remove '%' and convert to numeric\n",
    "df[\"Return_Stock\"] = df[\"Return_Stock\"].str.replace('%', '', regex=False)\n",
    "df[\"Return_market\"] = df[\"Return_market\"].str.replace('%', '', regex=False)\n",
    "\n",
    "df[\"Return_Stock\"] = pd.to_numeric(df[\"Return_Stock\"], errors='coerce')\n",
    "df[\"Return_market\"] = pd.to_numeric(df[\"Return_market\"], errors='coerce')\n",
    "\n",
    "# Drop rows with NaN values in returns\n",
    "df_clean = df.dropna(subset=[\"Return_Stock\", \"Return_market\"])\n",
    "\n",
    "# Calculate averages\n",
    "avg_stock_return = df_clean[\"Return_Stock\"].mean()\n",
    "avg_market_return = df_clean[\"Return_market\"].mean()\n",
    "\n",
    "avg_stock_return, avg_market_return\n"
   ]
  },
  {
   "cell_type": "code",
   "execution_count": null,
   "id": "a0edafa6",
   "metadata": {},
   "outputs": [
    {
     "name": "stdout",
     "output_type": "stream",
     "text": [
      "(247, 1)\n",
      "  DATE,Return_Stock,Return_market\n",
      "0                     1-Jan-21,,,\n",
      "1            4-Jan-21,0.47%,0.57%\n",
      "2          5-Jan-21,0.90%,-0.08%,\n",
      "3           6-Jan-21,0.95%,1.13%,\n",
      "4           7-Jan-21,1.87%,0.42%,\n"
     ]
    }
   ],
   "source": [
    "print(df.shape)  # shows number of rows and columns\n",
    "print(df.head())\n"
   ]
  },
  {
   "cell_type": "code",
   "execution_count": null,
   "id": "c525d082",
   "metadata": {},
   "outputs": [
    {
     "name": "stdout",
     "output_type": "stream",
     "text": [
      "Number of rows after cleaning: 247\n",
      "(247, 1)\n"
     ]
    }
   ],
   "source": [
    "print(\"Number of rows after cleaning:\", len(df))\n",
    "print(df.shape)  # (rows, columns)\n"
   ]
  },
  {
   "cell_type": "code",
   "execution_count": null,
   "id": "a201fc8a",
   "metadata": {},
   "outputs": [
    {
     "data": {
      "text/plain": [
       "<bound method NDFrame.head of     DATE,Return_Stock,Return_market,Risk_free_Rate\n",
       "0                                      1-Jan-21,,,\n",
       "1                      4-Jan-21,0.47%,0.57%,10.10%\n",
       "2                           5-Jan-21,0.90%,-0.08%,\n",
       "3                            6-Jan-21,0.95%,1.13%,\n",
       "4                            7-Jan-21,1.87%,0.42%,\n",
       "..                                             ...\n",
       "242                       27-Dec-21,-0.55%,-0.46%,\n",
       "243                        28-Dec-21,-0.14%,0.30%,\n",
       "244                        29-Dec-21,-0.87%,0.49%,\n",
       "245                        30-Dec-21,-0.13%,0.35%,\n",
       "246                         31-Dec-21,1.52%,0.40%,\n",
       "\n",
       "[247 rows x 1 columns]>"
      ]
     },
     "execution_count": 3,
     "metadata": {},
     "output_type": "execute_result"
    }
   ],
   "source": [
    "df.head"
   ]
  },
  {
   "cell_type": "markdown",
   "id": "c97f075b",
   "metadata": {},
   "source": [
    "### Beta and CAPM Working"
   ]
  },
  {
   "cell_type": "code",
   "execution_count": 40,
   "id": "5e988353",
   "metadata": {},
   "outputs": [
    {
     "name": "stdout",
     "output_type": "stream",
     "text": [
      "Risk-Free Rate: 10.095%\n",
      "Average Market Return: 0.006%\n",
      "Beta: 0.8747\n",
      "CAPM Expected Return: 1.270%\n"
     ]
    }
   ],
   "source": [
    "import pandas as pd\n",
    "import numpy as np\n",
    "\n",
    "# === Parameters ===\n",
    "risk_free_rate = 0.10095  # 10.095% as decimal\n",
    "file_path = r\"E:\\Data Science\\CAPM Working\\data.csv\"\n",
    "\n",
    "# === Step 1: Read file ===\n",
    "df = pd.read_csv(r\"E:\\Data Science\\CAPM Working\\data.csv\", sep=\",\", engine=\"python\", header=None)\n",
    "\n",
    "# If the first cell contains \"DATE,Return_Stock,Return_market\", split it\n",
    "if df.shape[1] == 1:\n",
    "    df = df[0].str.split(\",\", expand=True)\n",
    "\n",
    "# First row is header\n",
    "df.columns = df.iloc[0].str.strip()\n",
    "df = df.drop(index=0).reset_index(drop=True)\n",
    "\n",
    "# === Step 2: Standardize column names ===\n",
    "rename_map = {\n",
    "    'DATE': 'Date',\n",
    "    'Return_Stock': 'Return_Stock',\n",
    "    'Return_market': 'Return_Market'\n",
    "}\n",
    "df.rename(columns=rename_map, inplace=True)\n",
    "\n",
    "# === Step 3: Keep only required columns ===\n",
    "df = df[['Date', 'Return_Stock', 'Return_Market']]\n",
    "\n",
    "# === Step 4: Convert returns to decimal ===\n",
    "for col in ['Return_Stock', 'Return_Market']:\n",
    "    df[col] = (\n",
    "        df[col].astype(str)\n",
    "               .str.replace('%', '', regex=False)\n",
    "               .str.strip()\n",
    "    )\n",
    "    df[col] = pd.to_numeric(df[col], errors='coerce') / 100\n",
    "\n",
    "df.dropna(inplace=True)\n",
    "\n",
    "# === Step 5: Calculate Beta ===\n",
    "cov_matrix = np.cov(df['Return_Stock'], df['Return_Market'])\n",
    "beta = cov_matrix[0, 1] / cov_matrix[1, 1]\n",
    "\n",
    "# === Step 6: CAPM Expected Return ===\n",
    "avg_market_return = df['Return_Market'].mean()\n",
    "expected_return = risk_free_rate + beta * (avg_market_return - risk_free_rate)\n",
    "\n",
    "# === Output ===\n",
    "print(f\"Risk-Free Rate: {risk_free_rate*100:.3f}%\")\n",
    "print(f\"Average Market Return: {avg_market_return*100:.3f}%\")\n",
    "print(f\"Beta: {beta:.4f}\")\n",
    "print(f\"CAPM Expected Return: {expected_return*100:.3f}%\")\n"
   ]
  }
 ],
 "metadata": {
  "kernelspec": {
   "display_name": "base",
   "language": "python",
   "name": "python3"
  },
  "language_info": {
   "codemirror_mode": {
    "name": "ipython",
    "version": 3
   },
   "file_extension": ".py",
   "mimetype": "text/x-python",
   "name": "python",
   "nbconvert_exporter": "python",
   "pygments_lexer": "ipython3",
   "version": "3.13.5"
  }
 },
 "nbformat": 4,
 "nbformat_minor": 5
}
